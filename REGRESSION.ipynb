{
  "nbformat": 4,
  "nbformat_minor": 0,
  "metadata": {
    "colab": {
      "provenance": []
    },
    "kernelspec": {
      "name": "python3",
      "display_name": "Python 3"
    },
    "language_info": {
      "name": "python"
    }
  },
  "cells": [
    {
      "cell_type": "code",
      "execution_count": null,
      "metadata": {
        "colab": {
          "base_uri": "https://localhost:8080/"
        },
        "id": "tIT9ELrq2KNl",
        "outputId": "504194b2-8191-48dd-cce5-eb4e1b3b2f18"
      },
      "outputs": [
        {
          "output_type": "stream",
          "name": "stdout",
          "text": [
            "polynomal regression\n",
            "training RMSE: 48.92\n",
            "testing RMSE: 55.64\n",
            "\n"
          ]
        }
      ],
      "source": [
        "import numpy as np\n",
        "from sklearn.datasets import load_diabetes\n",
        "from sklearn.model_selection import train_test_split\n",
        "from sklearn.linear_model import LinearRegression\n",
        "from sklearn.preprocessing import PolynomialFeatures\n",
        "from sklearn.svm import SVR\n",
        "from sklearn.tree import DecisionTreeRegressor\n",
        "from sklearn.metrics import mean_squared_error\n",
        "\n",
        "#Load the diabetes dataset\n",
        "diabetes = load_diabetes()\n",
        "x = diabetes.data\n",
        "y = diabetes.target\n",
        "\n",
        "#Split data into training and testing sets\n",
        "x_train, x_test, y_train, y_test = train_test_split(x, y, test_size=0.2, random_state=42)\n",
        "\n",
        "#polynomial Regression\n",
        "degree = 2\n",
        "poly_features = PolynomialFeatures(degree=degree)\n",
        "x_poly_train = poly_features.fit_transform(x_train)\n",
        "x_poly_test = poly_features.transform(x_test)\n",
        "poly_reg = LinearRegression()\n",
        "poly_reg.fit(x_poly_train, y_train)\n",
        "y_poly_train_pred = poly_reg.predict(x_poly_train)\n",
        "y_poly_test_pred = poly_reg.predict(x_poly_test)\n",
        "poly_train_rmse = np.sqrt(mean_squared_error(y_train, y_poly_train_pred))\n",
        "poly_test_rmse = np.sqrt(mean_squared_error(y_test, y_poly_test_pred))\n",
        "\n",
        "#print RMSE for each model\n",
        "print(\"polynomal regression\")\n",
        "print(f\"training RMSE: {poly_train_rmse:.2f}\")\n",
        "print(f\"testing RMSE: {poly_test_rmse:.2f}\\n\")\n"
      ]
    },
    {
      "cell_type": "code",
      "source": [
        "#support vector Regression\n",
        "svr = SVR(kernel='rbf')\n",
        "svr.fit(x_train, y_train)\n",
        "y_svr_train_pred = svr.predict(x_train)\n",
        "y_svr_test_pred = svr.predict(x_test)\n",
        "svr_train_rmse = np.sqrt(mean_squared_error(y_train, y_svr_train_pred))\n",
        "svr_test_rmse = np.sqrt(mean_squared_error(y_test, y_svr_test_pred))\n",
        "\n",
        "#print RMSE for each model\n",
        "print(\"support vector regression\")\n",
        "print(f\"training RMSE: {svr_train_rmse:.2f}\")\n",
        "print(f\"testing RMSE: {svr_test_rmse:.2f}\\n\")"
      ],
      "metadata": {
        "colab": {
          "base_uri": "https://localhost:8080/"
        },
        "id": "c7CYPDg-2Alr",
        "outputId": "c679bee2-e5e8-4228-ef96-52ec83319789"
      },
      "execution_count": null,
      "outputs": [
        {
          "output_type": "stream",
          "name": "stdout",
          "text": [
            "support vector regression\n",
            "training RMSE: 71.15\n",
            "testing RMSE: 65.83\n",
            "\n"
          ]
        }
      ]
    },
    {
      "cell_type": "code",
      "source": [
        "#Decision Tree Regression\n",
        "decision_tree = DecisionTreeRegressor(random_state=42)\n",
        "decision_tree.fit(x_train, y_train)\n",
        "y_dt_train_pred = decision_tree.predict(x_train)\n",
        "y_dt_test_pred = decision_tree.predict(x_test)\n",
        "dt_train_rmse = np.sqrt(mean_squared_error(y_train, y_dt_train_pred))\n",
        "dt_test_rmse = np.sqrt(mean_squared_error(y_test, y_dt_test_pred))\n",
        "\n",
        "#print RMSE for each model\n",
        "print(\"Decision Tree Regression\")\n",
        "print(f\"training RMSE: {dt_train_rmse:.2f}\")\n",
        "print(f\"testing RMSE: {dt_test_rmse:.2f}\\n\")"
      ],
      "metadata": {
        "colab": {
          "base_uri": "https://localhost:8080/"
        },
        "id": "PYOzFOX-5W0Z",
        "outputId": "e9e43b9b-9f97-4711-906c-24ee503f43cf"
      },
      "execution_count": null,
      "outputs": [
        {
          "output_type": "stream",
          "name": "stdout",
          "text": [
            "Decision Tree Regression\n",
            "training RMSE: 0.00\n",
            "testing RMSE: 70.55\n",
            "\n"
          ]
        }
      ]
    }
  ]
}